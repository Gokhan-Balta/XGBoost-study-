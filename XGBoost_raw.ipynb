{
 "cells": [
  {
   "cell_type": "code",
   "execution_count": 57,
   "metadata": {},
   "outputs": [],
   "source": [
    "import xgboost as xgb\n",
    "import seaborn as sns \n",
    "import numpy as np \n",
    "import pandas as pd \n",
    "import matplotlib.pyplot as plt\n",
    "import warnings\n",
    "from sklearn.model_selection import train_test_split\n",
    "from sklearn.metrics import mean_squared_error\n"
   ]
  },
  {
   "cell_type": "code",
   "execution_count": 10,
   "metadata": {},
   "outputs": [],
   "source": [
    "warnings.filterwarnings(\"ignore\")"
   ]
  },
  {
   "cell_type": "code",
   "execution_count": 11,
   "metadata": {},
   "outputs": [],
   "source": [
    "diamonds = sns.load_dataset(\"diamonds\")"
   ]
  },
  {
   "cell_type": "code",
   "execution_count": 12,
   "metadata": {},
   "outputs": [
    {
     "data": {
      "text/html": [
       "<div>\n",
       "<style scoped>\n",
       "    .dataframe tbody tr th:only-of-type {\n",
       "        vertical-align: middle;\n",
       "    }\n",
       "\n",
       "    .dataframe tbody tr th {\n",
       "        vertical-align: top;\n",
       "    }\n",
       "\n",
       "    .dataframe thead th {\n",
       "        text-align: right;\n",
       "    }\n",
       "</style>\n",
       "<table border=\"1\" class=\"dataframe\">\n",
       "  <thead>\n",
       "    <tr style=\"text-align: right;\">\n",
       "      <th></th>\n",
       "      <th>carat</th>\n",
       "      <th>cut</th>\n",
       "      <th>color</th>\n",
       "      <th>clarity</th>\n",
       "      <th>depth</th>\n",
       "      <th>table</th>\n",
       "      <th>price</th>\n",
       "      <th>x</th>\n",
       "      <th>y</th>\n",
       "      <th>z</th>\n",
       "    </tr>\n",
       "  </thead>\n",
       "  <tbody>\n",
       "    <tr>\n",
       "      <th>0</th>\n",
       "      <td>0.23</td>\n",
       "      <td>Ideal</td>\n",
       "      <td>E</td>\n",
       "      <td>SI2</td>\n",
       "      <td>61.5</td>\n",
       "      <td>55.0</td>\n",
       "      <td>326</td>\n",
       "      <td>3.95</td>\n",
       "      <td>3.98</td>\n",
       "      <td>2.43</td>\n",
       "    </tr>\n",
       "    <tr>\n",
       "      <th>1</th>\n",
       "      <td>0.21</td>\n",
       "      <td>Premium</td>\n",
       "      <td>E</td>\n",
       "      <td>SI1</td>\n",
       "      <td>59.8</td>\n",
       "      <td>61.0</td>\n",
       "      <td>326</td>\n",
       "      <td>3.89</td>\n",
       "      <td>3.84</td>\n",
       "      <td>2.31</td>\n",
       "    </tr>\n",
       "    <tr>\n",
       "      <th>2</th>\n",
       "      <td>0.23</td>\n",
       "      <td>Good</td>\n",
       "      <td>E</td>\n",
       "      <td>VS1</td>\n",
       "      <td>56.9</td>\n",
       "      <td>65.0</td>\n",
       "      <td>327</td>\n",
       "      <td>4.05</td>\n",
       "      <td>4.07</td>\n",
       "      <td>2.31</td>\n",
       "    </tr>\n",
       "    <tr>\n",
       "      <th>3</th>\n",
       "      <td>0.29</td>\n",
       "      <td>Premium</td>\n",
       "      <td>I</td>\n",
       "      <td>VS2</td>\n",
       "      <td>62.4</td>\n",
       "      <td>58.0</td>\n",
       "      <td>334</td>\n",
       "      <td>4.20</td>\n",
       "      <td>4.23</td>\n",
       "      <td>2.63</td>\n",
       "    </tr>\n",
       "    <tr>\n",
       "      <th>4</th>\n",
       "      <td>0.31</td>\n",
       "      <td>Good</td>\n",
       "      <td>J</td>\n",
       "      <td>SI2</td>\n",
       "      <td>63.3</td>\n",
       "      <td>58.0</td>\n",
       "      <td>335</td>\n",
       "      <td>4.34</td>\n",
       "      <td>4.35</td>\n",
       "      <td>2.75</td>\n",
       "    </tr>\n",
       "  </tbody>\n",
       "</table>\n",
       "</div>"
      ],
      "text/plain": [
       "   carat      cut color clarity  depth  table  price     x     y     z\n",
       "0   0.23    Ideal     E     SI2   61.5   55.0    326  3.95  3.98  2.43\n",
       "1   0.21  Premium     E     SI1   59.8   61.0    326  3.89  3.84  2.31\n",
       "2   0.23     Good     E     VS1   56.9   65.0    327  4.05  4.07  2.31\n",
       "3   0.29  Premium     I     VS2   62.4   58.0    334  4.20  4.23  2.63\n",
       "4   0.31     Good     J     SI2   63.3   58.0    335  4.34  4.35  2.75"
      ]
     },
     "execution_count": 12,
     "metadata": {},
     "output_type": "execute_result"
    }
   ],
   "source": [
    "diamonds.head()"
   ]
  },
  {
   "cell_type": "code",
   "execution_count": 13,
   "metadata": {},
   "outputs": [
    {
     "data": {
      "text/plain": [
       "(53940, 10)"
      ]
     },
     "execution_count": 13,
     "metadata": {},
     "output_type": "execute_result"
    }
   ],
   "source": [
    "diamonds.shape"
   ]
  },
  {
   "cell_type": "code",
   "execution_count": 17,
   "metadata": {},
   "outputs": [
    {
     "data": {
      "text/plain": [
       "cut\n",
       "Ideal        21551\n",
       "Premium      13791\n",
       "Very Good    12082\n",
       "Good          4906\n",
       "Fair          1610\n",
       "Name: count, dtype: int64"
      ]
     },
     "execution_count": 17,
     "metadata": {},
     "output_type": "execute_result"
    }
   ],
   "source": [
    "diamonds[\"cut\"].value_counts()"
   ]
  },
  {
   "cell_type": "code",
   "execution_count": 18,
   "metadata": {},
   "outputs": [
    {
     "data": {
      "text/plain": [
       "color\n",
       "G    11292\n",
       "E     9797\n",
       "F     9542\n",
       "H     8304\n",
       "D     6775\n",
       "I     5422\n",
       "J     2808\n",
       "Name: count, dtype: int64"
      ]
     },
     "execution_count": 18,
     "metadata": {},
     "output_type": "execute_result"
    }
   ],
   "source": [
    "diamonds[\"color\"].value_counts()"
   ]
  },
  {
   "cell_type": "code",
   "execution_count": 23,
   "metadata": {},
   "outputs": [
    {
     "data": {
      "text/plain": [
       "clarity\n",
       "SI1     13065\n",
       "VS2     12258\n",
       "SI2      9194\n",
       "VS1      8171\n",
       "VVS2     5066\n",
       "VVS1     3655\n",
       "IF       1790\n",
       "I1        741\n",
       "Name: count, dtype: int64"
      ]
     },
     "execution_count": 23,
     "metadata": {},
     "output_type": "execute_result"
    }
   ],
   "source": [
    "diamonds[\"clarity\"].value_counts()"
   ]
  },
  {
   "cell_type": "code",
   "execution_count": 24,
   "metadata": {},
   "outputs": [
    {
     "name": "stdout",
     "output_type": "stream",
     "text": [
      "<class 'pandas.core.frame.DataFrame'>\n",
      "RangeIndex: 53940 entries, 0 to 53939\n",
      "Data columns (total 10 columns):\n",
      " #   Column   Non-Null Count  Dtype   \n",
      "---  ------   --------------  -----   \n",
      " 0   carat    53940 non-null  float64 \n",
      " 1   cut      53940 non-null  category\n",
      " 2   color    53940 non-null  category\n",
      " 3   clarity  53940 non-null  category\n",
      " 4   depth    53940 non-null  float64 \n",
      " 5   table    53940 non-null  float64 \n",
      " 6   price    53940 non-null  int64   \n",
      " 7   x        53940 non-null  float64 \n",
      " 8   y        53940 non-null  float64 \n",
      " 9   z        53940 non-null  float64 \n",
      "dtypes: category(3), float64(6), int64(1)\n",
      "memory usage: 3.0 MB\n"
     ]
    }
   ],
   "source": [
    "diamonds.info()"
   ]
  },
  {
   "cell_type": "code",
   "execution_count": 30,
   "metadata": {},
   "outputs": [
    {
     "data": {
      "text/plain": [
       "carat      0\n",
       "cut        0\n",
       "color      0\n",
       "clarity    0\n",
       "depth      0\n",
       "table      0\n",
       "price      0\n",
       "x          0\n",
       "y          0\n",
       "z          0\n",
       "dtype: int64"
      ]
     },
     "execution_count": 30,
     "metadata": {},
     "output_type": "execute_result"
    }
   ],
   "source": [
    "diamonds.isnull().sum()"
   ]
  },
  {
   "cell_type": "code",
   "execution_count": 32,
   "metadata": {},
   "outputs": [
    {
     "data": {
      "text/html": [
       "<div>\n",
       "<style scoped>\n",
       "    .dataframe tbody tr th:only-of-type {\n",
       "        vertical-align: middle;\n",
       "    }\n",
       "\n",
       "    .dataframe tbody tr th {\n",
       "        vertical-align: top;\n",
       "    }\n",
       "\n",
       "    .dataframe thead th {\n",
       "        text-align: right;\n",
       "    }\n",
       "</style>\n",
       "<table border=\"1\" class=\"dataframe\">\n",
       "  <thead>\n",
       "    <tr style=\"text-align: right;\">\n",
       "      <th></th>\n",
       "      <th>carat</th>\n",
       "      <th>depth</th>\n",
       "      <th>table</th>\n",
       "      <th>price</th>\n",
       "      <th>x</th>\n",
       "      <th>y</th>\n",
       "      <th>z</th>\n",
       "    </tr>\n",
       "  </thead>\n",
       "  <tbody>\n",
       "    <tr>\n",
       "      <th>count</th>\n",
       "      <td>53940.000000</td>\n",
       "      <td>53940.000000</td>\n",
       "      <td>53940.000000</td>\n",
       "      <td>53940.000000</td>\n",
       "      <td>53940.000000</td>\n",
       "      <td>53940.000000</td>\n",
       "      <td>53940.000000</td>\n",
       "    </tr>\n",
       "    <tr>\n",
       "      <th>mean</th>\n",
       "      <td>0.797940</td>\n",
       "      <td>61.749405</td>\n",
       "      <td>57.457184</td>\n",
       "      <td>3932.799722</td>\n",
       "      <td>5.731157</td>\n",
       "      <td>5.734526</td>\n",
       "      <td>3.538734</td>\n",
       "    </tr>\n",
       "    <tr>\n",
       "      <th>std</th>\n",
       "      <td>0.474011</td>\n",
       "      <td>1.432621</td>\n",
       "      <td>2.234491</td>\n",
       "      <td>3989.439738</td>\n",
       "      <td>1.121761</td>\n",
       "      <td>1.142135</td>\n",
       "      <td>0.705699</td>\n",
       "    </tr>\n",
       "    <tr>\n",
       "      <th>min</th>\n",
       "      <td>0.200000</td>\n",
       "      <td>43.000000</td>\n",
       "      <td>43.000000</td>\n",
       "      <td>326.000000</td>\n",
       "      <td>0.000000</td>\n",
       "      <td>0.000000</td>\n",
       "      <td>0.000000</td>\n",
       "    </tr>\n",
       "    <tr>\n",
       "      <th>25%</th>\n",
       "      <td>0.400000</td>\n",
       "      <td>61.000000</td>\n",
       "      <td>56.000000</td>\n",
       "      <td>950.000000</td>\n",
       "      <td>4.710000</td>\n",
       "      <td>4.720000</td>\n",
       "      <td>2.910000</td>\n",
       "    </tr>\n",
       "    <tr>\n",
       "      <th>50%</th>\n",
       "      <td>0.700000</td>\n",
       "      <td>61.800000</td>\n",
       "      <td>57.000000</td>\n",
       "      <td>2401.000000</td>\n",
       "      <td>5.700000</td>\n",
       "      <td>5.710000</td>\n",
       "      <td>3.530000</td>\n",
       "    </tr>\n",
       "    <tr>\n",
       "      <th>75%</th>\n",
       "      <td>1.040000</td>\n",
       "      <td>62.500000</td>\n",
       "      <td>59.000000</td>\n",
       "      <td>5324.250000</td>\n",
       "      <td>6.540000</td>\n",
       "      <td>6.540000</td>\n",
       "      <td>4.040000</td>\n",
       "    </tr>\n",
       "    <tr>\n",
       "      <th>max</th>\n",
       "      <td>5.010000</td>\n",
       "      <td>79.000000</td>\n",
       "      <td>95.000000</td>\n",
       "      <td>18823.000000</td>\n",
       "      <td>10.740000</td>\n",
       "      <td>58.900000</td>\n",
       "      <td>31.800000</td>\n",
       "    </tr>\n",
       "  </tbody>\n",
       "</table>\n",
       "</div>"
      ],
      "text/plain": [
       "              carat         depth         table         price             x  \\\n",
       "count  53940.000000  53940.000000  53940.000000  53940.000000  53940.000000   \n",
       "mean       0.797940     61.749405     57.457184   3932.799722      5.731157   \n",
       "std        0.474011      1.432621      2.234491   3989.439738      1.121761   \n",
       "min        0.200000     43.000000     43.000000    326.000000      0.000000   \n",
       "25%        0.400000     61.000000     56.000000    950.000000      4.710000   \n",
       "50%        0.700000     61.800000     57.000000   2401.000000      5.700000   \n",
       "75%        1.040000     62.500000     59.000000   5324.250000      6.540000   \n",
       "max        5.010000     79.000000     95.000000  18823.000000     10.740000   \n",
       "\n",
       "                  y             z  \n",
       "count  53940.000000  53940.000000  \n",
       "mean       5.734526      3.538734  \n",
       "std        1.142135      0.705699  \n",
       "min        0.000000      0.000000  \n",
       "25%        4.720000      2.910000  \n",
       "50%        5.710000      3.530000  \n",
       "75%        6.540000      4.040000  \n",
       "max       58.900000     31.800000  "
      ]
     },
     "execution_count": 32,
     "metadata": {},
     "output_type": "execute_result"
    }
   ],
   "source": [
    "diamonds.describe()"
   ]
  },
  {
   "cell_type": "code",
   "execution_count": 34,
   "metadata": {},
   "outputs": [
    {
     "data": {
      "text/html": [
       "<div>\n",
       "<style scoped>\n",
       "    .dataframe tbody tr th:only-of-type {\n",
       "        vertical-align: middle;\n",
       "    }\n",
       "\n",
       "    .dataframe tbody tr th {\n",
       "        vertical-align: top;\n",
       "    }\n",
       "\n",
       "    .dataframe thead th {\n",
       "        text-align: right;\n",
       "    }\n",
       "</style>\n",
       "<table border=\"1\" class=\"dataframe\">\n",
       "  <thead>\n",
       "    <tr style=\"text-align: right;\">\n",
       "      <th></th>\n",
       "      <th>cut</th>\n",
       "      <th>color</th>\n",
       "      <th>clarity</th>\n",
       "    </tr>\n",
       "  </thead>\n",
       "  <tbody>\n",
       "    <tr>\n",
       "      <th>count</th>\n",
       "      <td>53940</td>\n",
       "      <td>53940</td>\n",
       "      <td>53940</td>\n",
       "    </tr>\n",
       "    <tr>\n",
       "      <th>unique</th>\n",
       "      <td>5</td>\n",
       "      <td>7</td>\n",
       "      <td>8</td>\n",
       "    </tr>\n",
       "    <tr>\n",
       "      <th>top</th>\n",
       "      <td>Ideal</td>\n",
       "      <td>G</td>\n",
       "      <td>SI1</td>\n",
       "    </tr>\n",
       "    <tr>\n",
       "      <th>freq</th>\n",
       "      <td>21551</td>\n",
       "      <td>11292</td>\n",
       "      <td>13065</td>\n",
       "    </tr>\n",
       "  </tbody>\n",
       "</table>\n",
       "</div>"
      ],
      "text/plain": [
       "          cut  color clarity\n",
       "count   53940  53940   53940\n",
       "unique      5      7       8\n",
       "top     Ideal      G     SI1\n",
       "freq    21551  11292   13065"
      ]
     },
     "execution_count": 34,
     "metadata": {},
     "output_type": "execute_result"
    }
   ],
   "source": [
    "diamonds.describe(exclude=np.number)"
   ]
  },
  {
   "cell_type": "code",
   "execution_count": 41,
   "metadata": {},
   "outputs": [],
   "source": [
    "X = diamonds.drop(\"price\", axis=1)\n",
    "y = diamonds[[\"price\"]]"
   ]
  },
  {
   "cell_type": "code",
   "execution_count": 45,
   "metadata": {},
   "outputs": [],
   "source": [
    "cats = X.select_dtypes(exclude=np.number).columns.to_list()"
   ]
  },
  {
   "cell_type": "code",
   "execution_count": 47,
   "metadata": {},
   "outputs": [],
   "source": [
    "for col in cats:\n",
    "    X[col] = X[col].astype(\"category\")"
   ]
  },
  {
   "cell_type": "code",
   "execution_count": 48,
   "metadata": {},
   "outputs": [
    {
     "data": {
      "text/plain": [
       "carat       float64\n",
       "cut        category\n",
       "color      category\n",
       "clarity    category\n",
       "depth       float64\n",
       "table       float64\n",
       "x           float64\n",
       "y           float64\n",
       "z           float64\n",
       "dtype: object"
      ]
     },
     "execution_count": 48,
     "metadata": {},
     "output_type": "execute_result"
    }
   ],
   "source": [
    "X.dtypes"
   ]
  },
  {
   "cell_type": "code",
   "execution_count": 49,
   "metadata": {},
   "outputs": [],
   "source": [
    "X_train, X_test, y_train, y_test = train_test_split(X,y, test_size=0.2, random_state=61)"
   ]
  },
  {
   "cell_type": "code",
   "execution_count": 50,
   "metadata": {},
   "outputs": [],
   "source": [
    "dtrain_reg = xgb.DMatrix(X_train, y_train, enable_categorical=True)\n",
    "dtest_reg = xgb.DMatrix(X_test, y_test, enable_categorical=True)"
   ]
  },
  {
   "cell_type": "code",
   "execution_count": 56,
   "metadata": {},
   "outputs": [],
   "source": [
    "params = {\"objective\": \"reg:squarederror\"}\n",
    "n = 100 \n",
    "\n",
    "model = xgb.train(\n",
    "    params=params,\n",
    "    dtrain=dtrain_reg,\n",
    "    num_boost_round = n,\n",
    ")"
   ]
  },
  {
   "cell_type": "code",
   "execution_count": 58,
   "metadata": {},
   "outputs": [],
   "source": [
    "preds = model.predict(dtest_reg)"
   ]
  },
  {
   "cell_type": "code",
   "execution_count": 62,
   "metadata": {},
   "outputs": [
    {
     "name": "stdout",
     "output_type": "stream",
     "text": [
      "RMSE of the base model:514.778\n"
     ]
    }
   ],
   "source": [
    "rmse = mean_squared_error(y_test, preds, squared=False)\n",
    "\n",
    "print(f\"RMSE of the base model:{rmse:.3f}\")"
   ]
  },
  {
   "cell_type": "code",
   "execution_count": 63,
   "metadata": {},
   "outputs": [
    {
     "name": "stdout",
     "output_type": "stream",
     "text": [
      "[0]\ttrain-rmse:2871.40509\tvalidation-rmse:2813.29158\n",
      "[1]\ttrain-rmse:2089.35792\tvalidation-rmse:2046.65294\n",
      "[2]\ttrain-rmse:1550.04545\tvalidation-rmse:1522.04779\n",
      "[3]\ttrain-rmse:1189.65519\tvalidation-rmse:1171.18031\n",
      "[4]\ttrain-rmse:950.96235\tvalidation-rmse:936.60914\n",
      "[5]\ttrain-rmse:793.77430\tvalidation-rmse:784.85420\n",
      "[6]\ttrain-rmse:693.54274\tvalidation-rmse:687.16390\n",
      "[7]\ttrain-rmse:635.31799\tvalidation-rmse:629.35653\n",
      "[8]\ttrain-rmse:596.09465\tvalidation-rmse:592.73682\n",
      "[9]\ttrain-rmse:571.12638\tvalidation-rmse:569.81542\n",
      "[10]\ttrain-rmse:555.73643\tvalidation-rmse:555.39150\n",
      "[11]\ttrain-rmse:540.88303\tvalidation-rmse:543.82730\n",
      "[12]\ttrain-rmse:532.51471\tvalidation-rmse:536.34924\n",
      "[13]\ttrain-rmse:525.84164\tvalidation-rmse:533.43163\n",
      "[14]\ttrain-rmse:520.67341\tvalidation-rmse:528.47979\n",
      "[15]\ttrain-rmse:516.00284\tvalidation-rmse:524.87772\n",
      "[16]\ttrain-rmse:510.50779\tvalidation-rmse:522.33978\n",
      "[17]\ttrain-rmse:506.09554\tvalidation-rmse:522.24376\n",
      "[18]\ttrain-rmse:500.32232\tvalidation-rmse:521.60448\n",
      "[19]\ttrain-rmse:497.82041\tvalidation-rmse:520.36101\n",
      "[20]\ttrain-rmse:494.20207\tvalidation-rmse:519.31433\n",
      "[21]\ttrain-rmse:489.91883\tvalidation-rmse:518.98703\n",
      "[22]\ttrain-rmse:486.44837\tvalidation-rmse:517.43880\n",
      "[23]\ttrain-rmse:484.56489\tvalidation-rmse:517.26669\n",
      "[24]\ttrain-rmse:482.12592\tvalidation-rmse:517.90038\n",
      "[25]\ttrain-rmse:480.86008\tvalidation-rmse:517.79481\n",
      "[26]\ttrain-rmse:477.03918\tvalidation-rmse:516.67711\n",
      "[27]\ttrain-rmse:474.34634\tvalidation-rmse:515.65741\n",
      "[28]\ttrain-rmse:472.96051\tvalidation-rmse:515.18783\n",
      "[29]\ttrain-rmse:471.09409\tvalidation-rmse:515.14166\n",
      "[30]\ttrain-rmse:469.21246\tvalidation-rmse:515.29249\n",
      "[31]\ttrain-rmse:466.29771\tvalidation-rmse:515.15461\n",
      "[32]\ttrain-rmse:462.69440\tvalidation-rmse:514.97000\n",
      "[33]\ttrain-rmse:460.41868\tvalidation-rmse:514.83633\n",
      "[34]\ttrain-rmse:459.53941\tvalidation-rmse:515.20876\n",
      "[35]\ttrain-rmse:457.91513\tvalidation-rmse:514.82857\n",
      "[36]\ttrain-rmse:457.34204\tvalidation-rmse:514.91621\n",
      "[37]\ttrain-rmse:457.06981\tvalidation-rmse:514.69472\n",
      "[38]\ttrain-rmse:454.64308\tvalidation-rmse:514.51224\n",
      "[39]\ttrain-rmse:452.72556\tvalidation-rmse:514.09660\n",
      "[40]\ttrain-rmse:450.54601\tvalidation-rmse:514.12101\n",
      "[41]\ttrain-rmse:449.83678\tvalidation-rmse:514.50604\n",
      "[42]\ttrain-rmse:449.12000\tvalidation-rmse:514.07159\n",
      "[43]\ttrain-rmse:446.87380\tvalidation-rmse:514.14313\n",
      "[44]\ttrain-rmse:445.43582\tvalidation-rmse:513.97622\n",
      "[45]\ttrain-rmse:444.16585\tvalidation-rmse:513.45195\n",
      "[46]\ttrain-rmse:441.92091\tvalidation-rmse:513.38889\n",
      "[47]\ttrain-rmse:440.59469\tvalidation-rmse:514.14630\n",
      "[48]\ttrain-rmse:439.46833\tvalidation-rmse:513.36527\n",
      "[49]\ttrain-rmse:437.40941\tvalidation-rmse:513.52121\n",
      "[50]\ttrain-rmse:437.15974\tvalidation-rmse:513.32779\n",
      "[51]\ttrain-rmse:436.25386\tvalidation-rmse:512.75380\n",
      "[52]\ttrain-rmse:435.60662\tvalidation-rmse:513.10209\n",
      "[53]\ttrain-rmse:434.72461\tvalidation-rmse:513.58029\n",
      "[54]\ttrain-rmse:432.76122\tvalidation-rmse:514.13038\n",
      "[55]\ttrain-rmse:431.33320\tvalidation-rmse:513.53850\n",
      "[56]\ttrain-rmse:429.79507\tvalidation-rmse:513.50387\n",
      "[57]\ttrain-rmse:427.30772\tvalidation-rmse:512.93676\n",
      "[58]\ttrain-rmse:426.30319\tvalidation-rmse:513.64299\n",
      "[59]\ttrain-rmse:424.44571\tvalidation-rmse:513.55315\n",
      "[60]\ttrain-rmse:423.38987\tvalidation-rmse:514.37018\n",
      "[61]\ttrain-rmse:421.05752\tvalidation-rmse:514.77544\n",
      "[62]\ttrain-rmse:418.98954\tvalidation-rmse:514.58611\n",
      "[63]\ttrain-rmse:418.80330\tvalidation-rmse:514.42771\n",
      "[64]\ttrain-rmse:418.71546\tvalidation-rmse:514.35653\n",
      "[65]\ttrain-rmse:416.69486\tvalidation-rmse:514.84790\n",
      "[66]\ttrain-rmse:415.04163\tvalidation-rmse:514.54822\n",
      "[67]\ttrain-rmse:413.45982\tvalidation-rmse:514.51731\n",
      "[68]\ttrain-rmse:413.36488\tvalidation-rmse:514.46898\n",
      "[69]\ttrain-rmse:411.87291\tvalidation-rmse:514.60831\n",
      "[70]\ttrain-rmse:410.37009\tvalidation-rmse:514.51679\n",
      "[71]\ttrain-rmse:408.33740\tvalidation-rmse:515.11610\n",
      "[72]\ttrain-rmse:408.23838\tvalidation-rmse:515.10609\n",
      "[73]\ttrain-rmse:407.89786\tvalidation-rmse:514.75494\n",
      "[74]\ttrain-rmse:406.46856\tvalidation-rmse:514.85893\n",
      "[75]\ttrain-rmse:405.44998\tvalidation-rmse:514.63745\n",
      "[76]\ttrain-rmse:404.33702\tvalidation-rmse:514.90492\n",
      "[77]\ttrain-rmse:403.78634\tvalidation-rmse:515.15057\n",
      "[78]\ttrain-rmse:401.70801\tvalidation-rmse:515.69066\n",
      "[79]\ttrain-rmse:401.16242\tvalidation-rmse:515.61272\n",
      "[80]\ttrain-rmse:400.33109\tvalidation-rmse:515.53165\n",
      "[81]\ttrain-rmse:399.94018\tvalidation-rmse:515.64807\n",
      "[82]\ttrain-rmse:398.61024\tvalidation-rmse:515.58610\n",
      "[83]\ttrain-rmse:398.55258\tvalidation-rmse:515.55033\n",
      "[84]\ttrain-rmse:397.75845\tvalidation-rmse:515.20676\n",
      "[85]\ttrain-rmse:396.55619\tvalidation-rmse:515.33519\n",
      "[86]\ttrain-rmse:396.08673\tvalidation-rmse:515.29794\n",
      "[87]\ttrain-rmse:395.02757\tvalidation-rmse:515.13423\n",
      "[88]\ttrain-rmse:393.26481\tvalidation-rmse:514.30596\n",
      "[89]\ttrain-rmse:391.33935\tvalidation-rmse:515.29377\n",
      "[90]\ttrain-rmse:389.77463\tvalidation-rmse:514.91782\n",
      "[91]\ttrain-rmse:388.43783\tvalidation-rmse:515.46476\n",
      "[92]\ttrain-rmse:387.65052\tvalidation-rmse:515.94421\n",
      "[93]\ttrain-rmse:386.68805\tvalidation-rmse:515.81430\n",
      "[94]\ttrain-rmse:384.62035\tvalidation-rmse:515.11724\n",
      "[95]\ttrain-rmse:383.45980\tvalidation-rmse:514.98587\n",
      "[96]\ttrain-rmse:382.96113\tvalidation-rmse:514.96910\n",
      "[97]\ttrain-rmse:382.42186\tvalidation-rmse:514.94865\n",
      "[98]\ttrain-rmse:381.19390\tvalidation-rmse:514.83933\n",
      "[99]\ttrain-rmse:380.71137\tvalidation-rmse:514.77768\n"
     ]
    }
   ],
   "source": [
    "evals = [(dtrain_reg, \"train\"), (dtest_reg, \"validation\")]\n",
    "\n",
    "model = xgb.train(\n",
    "   params=params,\n",
    "   dtrain=dtrain_reg,\n",
    "   num_boost_round=n,\n",
    "   evals=evals,\n",
    ")\n",
    "\n"
   ]
  },
  {
   "cell_type": "code",
   "execution_count": 64,
   "metadata": {},
   "outputs": [
    {
     "name": "stdout",
     "output_type": "stream",
     "text": [
      "[0]\ttrain-rmse:2871.40509\tvalidation-rmse:2813.29158\n",
      "[10]\ttrain-rmse:555.73643\tvalidation-rmse:555.39150\n",
      "[20]\ttrain-rmse:494.20207\tvalidation-rmse:519.31433\n",
      "[30]\ttrain-rmse:469.21246\tvalidation-rmse:515.29249\n",
      "[40]\ttrain-rmse:450.54601\tvalidation-rmse:514.12101\n",
      "[50]\ttrain-rmse:437.15974\tvalidation-rmse:513.32779\n",
      "[60]\ttrain-rmse:423.38987\tvalidation-rmse:514.37018\n",
      "[70]\ttrain-rmse:410.37009\tvalidation-rmse:514.51679\n",
      "[80]\ttrain-rmse:400.33109\tvalidation-rmse:515.53165\n",
      "[90]\ttrain-rmse:389.77463\tvalidation-rmse:514.91782\n",
      "[99]\ttrain-rmse:380.71137\tvalidation-rmse:514.77768\n"
     ]
    }
   ],
   "source": [
    "evals = [(dtrain_reg, \"train\"), (dtest_reg, \"validation\")]\n",
    "\n",
    "model = xgb.train(\n",
    "   params=params,\n",
    "   dtrain=dtrain_reg,\n",
    "   num_boost_round=n,\n",
    "   evals=evals,\n",
    "   verbose_eval=10\n",
    ")\n",
    "\n"
   ]
  },
  {
   "cell_type": "code",
   "execution_count": 65,
   "metadata": {},
   "outputs": [
    {
     "name": "stdout",
     "output_type": "stream",
     "text": [
      "[0]\ttrain-rmse:2871.40509\tvalidation-rmse:2813.29158\n",
      "[50]\ttrain-rmse:437.15974\tvalidation-rmse:513.32779\n",
      "[100]\ttrain-rmse:379.49768\tvalidation-rmse:514.83671\n"
     ]
    }
   ],
   "source": [
    "n = 10000\n",
    "model = xgb.train(\n",
    "   params=params,\n",
    "   dtrain=dtrain_reg,\n",
    "   num_boost_round=n,\n",
    "   evals=evals,\n",
    "   verbose_eval=50,\n",
    "   # Activate early stopping\n",
    "   early_stopping_rounds=50\n",
    ")\n"
   ]
  },
  {
   "cell_type": "code",
   "execution_count": 66,
   "metadata": {},
   "outputs": [],
   "source": [
    "n = 1000\n",
    "\n",
    "results = xgb.cv(\n",
    "   params, dtrain_reg,\n",
    "   num_boost_round=n,\n",
    "   nfold=5,\n",
    "   early_stopping_rounds=20\n",
    ")\n",
    "\n"
   ]
  },
  {
   "cell_type": "code",
   "execution_count": 74,
   "metadata": {},
   "outputs": [
    {
     "data": {
      "text/html": [
       "<div>\n",
       "<style scoped>\n",
       "    .dataframe tbody tr th:only-of-type {\n",
       "        vertical-align: middle;\n",
       "    }\n",
       "\n",
       "    .dataframe tbody tr th {\n",
       "        vertical-align: top;\n",
       "    }\n",
       "\n",
       "    .dataframe thead th {\n",
       "        text-align: right;\n",
       "    }\n",
       "</style>\n",
       "<table border=\"1\" class=\"dataframe\">\n",
       "  <thead>\n",
       "    <tr style=\"text-align: right;\">\n",
       "      <th></th>\n",
       "      <th>train-rmse-mean</th>\n",
       "      <th>train-rmse-std</th>\n",
       "      <th>test-rmse-mean</th>\n",
       "      <th>test-rmse-std</th>\n",
       "    </tr>\n",
       "  </thead>\n",
       "  <tbody>\n",
       "    <tr>\n",
       "      <th>0</th>\n",
       "      <td>2872.354589</td>\n",
       "      <td>5.106472</td>\n",
       "      <td>2874.090261</td>\n",
       "      <td>24.250401</td>\n",
       "    </tr>\n",
       "    <tr>\n",
       "      <th>1</th>\n",
       "      <td>2090.551707</td>\n",
       "      <td>4.429606</td>\n",
       "      <td>2096.256160</td>\n",
       "      <td>18.724507</td>\n",
       "    </tr>\n",
       "    <tr>\n",
       "      <th>2</th>\n",
       "      <td>1552.863406</td>\n",
       "      <td>3.285129</td>\n",
       "      <td>1563.658597</td>\n",
       "      <td>12.564446</td>\n",
       "    </tr>\n",
       "    <tr>\n",
       "      <th>3</th>\n",
       "      <td>1187.802983</td>\n",
       "      <td>2.123129</td>\n",
       "      <td>1203.203491</td>\n",
       "      <td>9.700830</td>\n",
       "    </tr>\n",
       "    <tr>\n",
       "      <th>4</th>\n",
       "      <td>947.092027</td>\n",
       "      <td>2.003722</td>\n",
       "      <td>967.899626</td>\n",
       "      <td>8.163701</td>\n",
       "    </tr>\n",
       "  </tbody>\n",
       "</table>\n",
       "</div>"
      ],
      "text/plain": [
       "   train-rmse-mean  train-rmse-std  test-rmse-mean  test-rmse-std\n",
       "0      2872.354589        5.106472     2874.090261      24.250401\n",
       "1      2090.551707        4.429606     2096.256160      18.724507\n",
       "2      1552.863406        3.285129     1563.658597      12.564446\n",
       "3      1187.802983        2.123129     1203.203491       9.700830\n",
       "4       947.092027        2.003722      967.899626       8.163701"
      ]
     },
     "execution_count": 74,
     "metadata": {},
     "output_type": "execute_result"
    }
   ],
   "source": [
    "results.head()"
   ]
  },
  {
   "cell_type": "code",
   "execution_count": 69,
   "metadata": {},
   "outputs": [
    {
     "data": {
      "text/plain": [
       "553.168906263618"
      ]
     },
     "execution_count": 69,
     "metadata": {},
     "output_type": "execute_result"
    }
   ],
   "source": [
    "best_rmse = results[\"test-rmse-mean\"].min()\n",
    "best_rmse"
   ]
  },
  {
   "cell_type": "code",
   "execution_count": null,
   "metadata": {},
   "outputs": [],
   "source": []
  },
  {
   "cell_type": "code",
   "execution_count": null,
   "metadata": {},
   "outputs": [],
   "source": []
  },
  {
   "cell_type": "code",
   "execution_count": null,
   "metadata": {},
   "outputs": [],
   "source": []
  }
 ],
 "metadata": {
  "kernelspec": {
   "display_name": "Python 3",
   "language": "python",
   "name": "python3"
  },
  "language_info": {
   "codemirror_mode": {
    "name": "ipython",
    "version": 3
   },
   "file_extension": ".py",
   "mimetype": "text/x-python",
   "name": "python",
   "nbconvert_exporter": "python",
   "pygments_lexer": "ipython3",
   "version": "3.12.2"
  }
 },
 "nbformat": 4,
 "nbformat_minor": 2
}
